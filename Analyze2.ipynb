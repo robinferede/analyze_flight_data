{
 "cells": [
  {
   "cell_type": "code",
   "execution_count": 52,
   "metadata": {},
   "outputs": [
    {
     "name": "stdout",
     "output_type": "stream",
     "text": [
      "0 Sep5_3inch_0percent_randomized_1runs_succesful.csv\n",
      "1 Sep5_3inch_big_randomization_3runs_succesful.csv\n",
      "2 Sep5_3inch_30percent_randomized_3runs_succesful.csv\n",
      "3 Sep5_3inch_20percent_randomized_3runs_succesful.csv\n",
      "4 Sep5_3inch_0percent_randomized_2runs_succesful_1_optitrack_loss.csv\n",
      "5 Sep5_3inch_10percent_randomized_3runs_succesful.csv\n"
     ]
    }
   ],
   "source": [
    "from analyze import *\n",
    "import os\n",
    "\n",
    "# look through flight_data folder for files containing \"aug\" (lowercase or uppercase)\n",
    "# and print out the file names with numbers\n",
    "files = [f for f in os.listdir(\"flight_data\") if \"sep5\" in f.lower() or \"sepaa\" in f.lower()]\n",
    "for i, f in enumerate(files):\n",
    "    print(i, f)"
   ]
  },
  {
   "cell_type": "code",
   "execution_count": 59,
   "metadata": {},
   "outputs": [
    {
     "name": "stdout",
     "output_type": "stream",
     "text": [
      "Selected file: Sep5_3inch_20percent_randomized_3runs_succesful.csv\n",
      "Logging frequency: 872.9291493196605\n",
      "WARNING: overwriting states with ekf states\n"
     ]
    }
   ],
   "source": [
    "# select a file by number\n",
    "num = 3\n",
    "file = files[num]\n",
    "print(\"Selected file:\", file)\n",
    "\n",
    "# load the data\n",
    "data = load_flight_data(\"flight_data/\" + file, new_format=True)\n",
    "\n",
    "def trim_nn_active(data):\n",
    "    indices = data['flightModeFlags'] > 8000\n",
    "    data = {k: v[indices] for k, v in data.items() if isinstance(v, np.ndarray) and len(v) == len(indices)}\n",
    "    data['t'] = data['t'] - data['t'][0]\n",
    "    return data\n",
    "\n",
    "def trim_time(data, t0=0, tf=12):\n",
    "    indices = (data['t'] >= t0) & (data['t'] <= tf)\n",
    "    data = {k: v[indices] for k, v in data.items() if isinstance(v, np.ndarray) and len(v) == len(indices)}\n",
    "    data['t'] = data['t'] - data['t'][0]\n",
    "    return data\n",
    "\n",
    "def split_where_nn_active(data):\n",
    "    nn_active = data['flightModeFlags'] > 8000\n",
    "    nn_activate = [i for i in range(1, len(nn_active)) if nn_active[i] and not nn_active[i-1]]\n",
    "    nn_deactivate = [i for i in range(1, len(nn_active)) if not nn_active[i] and nn_active[i-1]]\n",
    "    split_data = []\n",
    "    for i in range(len(nn_activate)):\n",
    "        split_data.append({k: v[nn_activate[i]:nn_deactivate[i]] for k, v in data.items() if isinstance(v, np.ndarray) and len(v) == len(data['t'])})\n",
    "        split_data[-1]['t'] = split_data[-1]['t'] - split_data[-1]['t'][0]\n",
    "    return split_data\n",
    "    \n",
    "\n",
    "# trim the data\n",
    "# data = trim_nn_active(data)"
   ]
  },
  {
   "cell_type": "code",
   "execution_count": 56,
   "metadata": {},
   "outputs": [],
   "source": [
    "# animate\n",
    "# race track\n",
    "r = 1.5\n",
    "gate_pos = np.array([\n",
    "    [ r,  -r, -1.5],\n",
    "    [ 0,   0, -1.5],\n",
    "    [-r,   r, -1.5],\n",
    "    [ 0, 2*r, -1.5],\n",
    "    [ r,   r, -1.5],\n",
    "    [ 0,   0, -1.5],\n",
    "    [-r,  -r, -1.5],\n",
    "    [ 0,-2*r, -1.5]\n",
    "])\n",
    "gate_yaw = np.array([1,2,1,0,-1,-2,-1,0])*np.pi/2\n",
    "\n",
    "animate_data_multiple(data, gate_pos=gate_pos, gate_yaw=gate_yaw)"
   ]
  },
  {
   "cell_type": "code",
   "execution_count": 46,
   "metadata": {},
   "outputs": [
    {
     "name": "stdout",
     "output_type": "stream",
     "text": [
      "nn_activate: [17404, 37041, 58531]\n",
      "nn_deactivate: [27432, 49235, 74293]\n",
      "segment 0 tf: 11.998643000000001\n",
      "segment 1 tf: 11.999122999999997\n",
      "segment 2 tf: 11.998998999999998\n"
     ]
    }
   ],
   "source": [
    "# split the data\n",
    "split_data = split_where_nn_active(data)\n",
    "# trim time\n",
    "split_data = [trim_time(d, t0=0, tf=12) for d in split_data]\n",
    "for i, d in enumerate(split_data):\n",
    "    print('segment', i, \"tf:\", d['t'][-1])\n",
    "animate_data_multiple(*split_data, gate_pos=gate_pos, gate_yaw=gate_yaw)"
   ]
  },
  {
   "cell_type": "code",
   "execution_count": 49,
   "metadata": {},
   "outputs": [
    {
     "name": "stdout",
     "output_type": "stream",
     "text": [
      "Using matplotlib backend: TkAgg\n"
     ]
    }
   ],
   "source": [
    "%matplotlib\n",
    "plt.close('all')\n",
    "# acc_plot(data)\n",
    "imu_plot(data)\n",
    "# ekf_plot(data)\n",
    "# actuator_plot(data)"
   ]
  },
  {
   "cell_type": "code",
   "execution_count": 62,
   "metadata": {},
   "outputs": [
    {
     "name": "stdout",
     "output_type": "stream",
     "text": [
      "Logging frequency: 881.7974382601424\n",
      "WARNING: overwriting states with ekf states\n"
     ]
    }
   ],
   "source": [
    "# 3inch big randomization\n",
    "data = load_flight_data(\"flight_data/Sep5_3inch_big_randomization_3runs_succesful.csv\")\n",
    "runs = split_where_nn_active(data)\n",
    "runs_3inch_big_domain_randomization = [trim_time(r, t0=0, tf=12) for r in runs]\n",
    "\n",
    "# 3inch 30 percent randomization\n",
    "data = load_flight_data(\"flight_data/Sep5_3inch_30percent_randomized_3runs_succesful.csv\")\n",
    "runs = split_where_nn_active(data)\n",
    "runs_3inch_30percent_randomization = [trim_time(r, t0=0, tf=12) for r in runs]"
   ]
  },
  {
   "cell_type": "code",
   "execution_count": 63,
   "metadata": {},
   "outputs": [],
   "source": [
    "animate_data_multiple(*runs_3inch_30percent_randomization, gate_pos=gate_pos, gate_yaw=gate_yaw, names=['run1', 'run2', 'run3'])"
   ]
  },
  {
   "cell_type": "code",
   "execution_count": 6,
   "metadata": {},
   "outputs": [
    {
     "name": "stdout",
     "output_type": "stream",
     "text": [
      "Logging frequency: 906.2990724728469\n",
      "WARNING: overwriting states with ekf states\n",
      "Logging frequency: 881.7974382601424\n",
      "WARNING: overwriting states with ekf states\n",
      "Logging frequency: 872.9291493196605\n",
      "WARNING: overwriting states with ekf states\n",
      "Logging frequency: 902.7468512313426\n",
      "WARNING: overwriting states with ekf states\n"
     ]
    }
   ],
   "source": [
    "# 0 Sep5_3inch_big_randomization_3runs_succesful.csv\n",
    "# 1 Sep5_3inch_30percent_randomized_3runs_succesful.csv\n",
    "# 2 Sep5_3inch_20percent_randomized_3runs_succesful.csv\n",
    "# 3 Sep5_3inch_10percent_randomized_3runs_succesful.csv\n",
    "\n",
    "model0 = load_flight_data(\"flight_data/Sep5_3inch_big_randomization_3runs_succesful.csv\")\n",
    "model1 = load_flight_data(\"flight_data/Sep5_3inch_30percent_randomized_3runs_succesful.csv\")\n",
    "model2 = load_flight_data(\"flight_data/Sep5_3inch_20percent_randomized_3runs_succesful.csv\")\n",
    "model3 = load_flight_data(\"flight_data/Sep5_3inch_10percent_randomized_3runs_succesful.csv\")\n",
    "\n",
    "# trim\n",
    "model0 = trim_nn_active(model0)\n",
    "model1 = trim_nn_active(model1)\n",
    "model2 = trim_nn_active(model2)\n",
    "model3 = trim_nn_active(model3)"
   ]
  },
  {
   "cell_type": "code",
   "execution_count": 9,
   "metadata": {},
   "outputs": [],
   "source": [
    "animate_data_multiple(model0, model1, model2, model3, gate_pos=gate_pos, gate_yaw=gate_yaw, names=['big', '30%', '20%', '10%'])"
   ]
  },
  {
   "cell_type": "code",
   "execution_count": null,
   "metadata": {},
   "outputs": [],
   "source": []
  }
 ],
 "metadata": {
  "kernelspec": {
   "display_name": "quad",
   "language": "python",
   "name": "python3"
  },
  "language_info": {
   "codemirror_mode": {
    "name": "ipython",
    "version": 3
   },
   "file_extension": ".py",
   "mimetype": "text/x-python",
   "name": "python",
   "nbconvert_exporter": "python",
   "pygments_lexer": "ipython3",
   "version": "3.11.6"
  }
 },
 "nbformat": 4,
 "nbformat_minor": 2
}
