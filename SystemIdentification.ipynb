{
 "cells": [
  {
   "cell_type": "code",
   "execution_count": 1,
   "metadata": {
    "metadata": {}
   },
   "outputs": [
    {
     "name": "stdout",
     "output_type": "stream",
     "text": [
      "Logging frequency: 483.712275523817\n",
      "WARNING: overwriting states with ekf states\n"
     ]
    }
   ],
   "source": [
    "from analyze import *\n",
    "\n",
    "path = 'flight_data/5Aug_till_sys_id.csv'\n",
    "# path = 'flight_data/aggressive_cmds2.csv'\n",
    "# path = 'flight_data/15July_new_drone_oring_damping.csv'\n",
    "\n",
    "\n",
    "data = load_flight_data(path, new_format=True)\n",
    "# data = load_flight_data(path, new_format=False)\n",
    "animate_data(data)"
   ]
  },
  {
   "cell_type": "code",
   "execution_count": 2,
   "metadata": {},
   "outputs": [
    {
     "name": "stdout",
     "output_type": "stream",
     "text": [
      "Using matplotlib backend: <object object at 0x7127ef9cf190>\n",
      "fitting thrust and drag model\n",
      "fitting moments model\n",
      "fitting actuator model...\n"
     ]
    }
   ],
   "source": [
    "%matplotlib\n",
    "plt.close('all')\n",
    "# reload all functions from analyze.py\n",
    "import sys\n",
    "importlib.reload(sys.modules['analyze'])\n",
    "from analyze import *\n",
    "\n",
    "p1 = fit_thrust_drag_model(data)\n",
    "p2 = fit_moments_model(data)\n",
    "p3 = fit_actuator_model(data)\n",
    "# w_max = p3[1]\n",
    "# print(p2[8]*w_max, p2[9]*w_max)"
   ]
  },
  {
   "cell_type": "code",
   "execution_count": 14,
   "metadata": {},
   "outputs": [
    {
     "name": "stdout",
     "output_type": "stream",
     "text": [
      "Using matplotlib backend: TkAgg\n"
     ]
    }
   ],
   "source": [
    "%matplotlib\n",
    "# plt.close('all')\n",
    "imu_plot(data)\n",
    "# ekf_plot(data)\n",
    "# actuator_plot(data)"
   ]
  },
  {
   "cell_type": "code",
   "execution_count": 3,
   "metadata": {},
   "outputs": [
    {
     "name": "stdout",
     "output_type": "stream",
     "text": [
      "params = {\n",
      "'k_w': 6.00e-07, 'k_x': 2.99e-05, 'k_y': 3.52e-05,\n",
      "'k_p1': 2.57e-05, 'k_p2': 2.51e-05, 'k_p3': 2.72e-05, 'k_p4': 2.00e-05,\n",
      "'k_q1': 9.10e-06, 'k_q2': 9.96e-06, 'k_q3': 1.17e-05, 'k_q4': 8.21e-06,\n",
      "'k_r1': 9.64e-03, 'k_r2': 9.64e-03, 'k_r3': 9.64e-03, 'k_r4': 9.64e-03, 'k_r5': 1.14e-03, 'k_r6': 1.14e-03, 'k_r7': 1.14e-03, 'k_r8': 1.14e-03,\n",
      "'w_min': 305.40, 'w_max': 4887.57, 'k': 0.84, 'tau': 0.04\n",
      "}\n",
      "params_normalized = {\n",
      "'k_wn': 1.43e+01, 'k_xn': 1.46e-01, 'k_yn': 1.72e-01,\n",
      "'k_p1n': 6.15e+02, 'k_p2n': 5.98e+02, 'k_p3n': 6.50e+02, 'k_p4n': 4.79e+02,\n",
      "'k_q1n': 2.17e+02, 'k_q2n': 2.38e+02, 'k_q3n': 2.80e+02, 'k_q4n': 1.96e+02,\n",
      "'k_rn': 4.71e+01, 'k_rdn': 5.57e+00,\n",
      "'w_min': 305.40, 'w_max': 4887.57, 'k': 0.84, 'tau': 0.04\n",
      "}\n"
     ]
    }
   ],
   "source": [
    "# get absolute values of the parameters\n",
    "p1 = np.abs(p1)\n",
    "p2 = np.abs(p2)\n",
    "p3 = np.abs(p3)\n",
    "\n",
    "print('params = {')\n",
    "print('\\'k_w\\': {:.2e}, \\'k_x\\': {:.2e}, \\'k_y\\': {:.2e},'.format(p1[0], p1[1], p1[2]))\n",
    "print('\\'k_p1\\': {:.2e}, \\'k_p2\\': {:.2e}, \\'k_p3\\': {:.2e}, \\'k_p4\\': {:.2e},'.format(p2[0], p2[1], p2[2], p2[3]))\n",
    "print('\\'k_q1\\': {:.2e}, \\'k_q2\\': {:.2e}, \\'k_q3\\': {:.2e}, \\'k_q4\\': {:.2e},'.format(p2[4], p2[5], p2[6], p2[7]))\n",
    "params = [p2[8]]*4+[p2[9]]*4\n",
    "print('\\'k_r1\\': {:.2e}, \\'k_r2\\': {:.2e}, \\'k_r3\\': {:.2e}, \\'k_r4\\': {:.2e}, \\'k_r5\\': {:.2e}, \\'k_r6\\': {:.2e}, \\'k_r7\\': {:.2e}, \\'k_r8\\': {:.2e},'.format(*params))\n",
    "# print('\\'k_r1\\': {:.2e}, \\'k_r2\\': {:.2e},'.format(p2[8], p2[9]))\n",
    "print('\\'w_min\\': {:.2f}, \\'w_max\\': {:.2f}, \\'k\\': {:.2f}, \\'tau\\': {:.2f}'.format(p3[0], p3[1], p3[2], p3[3]))\n",
    "print('}')\n",
    "w_max=p3[1]\n",
    "print('params_normalized = {')\n",
    "print('\\'k_wn\\': {:.2e}, \\'k_xn\\': {:.2e}, \\'k_yn\\': {:.2e},'.format(p1[0]*w_max**2, p1[1]*w_max, p1[2]*w_max))\n",
    "print('\\'k_p1n\\': {:.2e}, \\'k_p2n\\': {:.2e}, \\'k_p3n\\': {:.2e}, \\'k_p4n\\': {:.2e},'.format(p2[0]*w_max**2, p2[1]*w_max**2, p2[2]*w_max**2, p2[3]*w_max**2))\n",
    "print('\\'k_q1n\\': {:.2e}, \\'k_q2n\\': {:.2e}, \\'k_q3n\\': {:.2e}, \\'k_q4n\\': {:.2e},'.format(p2[4]*w_max**2, p2[5]*w_max**2, p2[6]*w_max**2, p2[7]*w_max**2))\n",
    "print('\\'k_rn\\': {:.2e}, \\'k_rdn\\': {:.2e},'.format(p2[8]*w_max, p2[9]*w_max))\n",
    "print('\\'w_min\\': {:.2f}, \\'w_max\\': {:.2f}, \\'k\\': {:.2f}, \\'tau\\': {:.2f}'.format(p3[0], p3[1], p3[2], p3[3]))\n",
    "print('}')"
   ]
  },
  {
   "cell_type": "code",
   "execution_count": 10,
   "metadata": {},
   "outputs": [],
   "source": [
    "plt.close('all')"
   ]
  },
  {
   "cell_type": "code",
   "execution_count": 17,
   "metadata": {},
   "outputs": [
    {
     "name": "stdout",
     "output_type": "stream",
     "text": [
      "dict_keys(['k_w', 'k_x', 'k_y', 'k_p1', 'k_p2', 'k_p3', 'k_p4', 'k_q1', 'k_q2', 'k_q3', 'k_q4', 'k_r', 'k_rd', 'w_min', 'w_max', 'k', 'tau'])\n"
     ]
    }
   ],
   "source": [
    "# Robin:\n",
    "params = {\n",
    "'k_w': -2.49e-06, 'k_x': -4.85e-05, 'k_y': -7.28e-05,\n",
    "'k_p1': -6.55e-05, 'k_p2': -6.61e-05, 'k_p3': 6.36e-05, 'k_p4': 6.67e-05,\n",
    "'k_q1': -5.28e-05, 'k_q2': 5.86e-05, 'k_q3': -5.05e-05, 'k_q4': 5.89e-05,\n",
    "'k_r1': 1.07e-02, 'k_r2': 1.07e-02, 'k_r3': 1.07e-02, 'k_r4': 1.07e-02, 'k_r5': 1.97e-03, 'k_r6': 1.97e-03, 'k_r7': 1.97e-03, 'k_r8': 1.97e-03,\n",
    "'w_min': 238.49, 'w_max': 3295.50, 'k': 0.95, 'tau': 0.04\n",
    "}\n",
    "\n",
    "# Till:\n",
    "params = {\n",
    "'k_w': -6.00e-07, 'k_x': -3.36e-05, 'k_y': -3.73e-05,\n",
    "'k_p1': -2.57e-05, 'k_p2': -2.51e-05, 'k_p3': 2.72e-05, 'k_p4': 2.00e-05,\n",
    "'k_q1': -9.10e-06, 'k_q2': 9.96e-06, 'k_q3': -1.17e-05, 'k_q4': 8.21e-06,\n",
    "'k_r1': 9.64e-03, 'k_r2': 9.64e-03, 'k_r3': 9.64e-03, 'k_r4': 9.64e-03, 'k_r5': 1.14e-03, 'k_r6': 1.14e-03, 'k_r7': 1.14e-03, 'k_r8': 1.14e-03,\n",
    "'w_min': 305.40, 'w_max': 4887.57, 'k': 0.84, 'tau': 0.04\n",
    "}\n",
    "\n",
    "\n",
    "# print(params['k_w']*(params['w_max']**2)*0.4)\n",
    "\n",
    "# Robin normalized:\n",
    "params_normalized = {\n",
    "'k_w': -2.71e+01, 'k_x': -1.60e-01, 'k_y': -2.40e-01,\n",
    "'k_p1': -7.11e+02, 'k_p2': -7.18e+02, 'k_p3': 6.91e+02, 'k_p4': 7.24e+02,\n",
    "'k_q1': -5.73e+02, 'k_q2': 6.37e+02, 'k_q3': -5.48e+02, 'k_q4': 6.40e+02,\n",
    "'k_r': 3.52e+01, 'k_rd': 6.49e+00,\n",
    "'w_min': 238.49, 'w_max': 3295.50, 'k': 0.95, 'tau': 0.04\n",
    "}\n",
    "\n",
    "# Till normalized:\n",
    "params_normalized = {\n",
    "'k_w': -1.43e+01, 'k_x': -1.64e-01, 'k_y': -1.82e-01,\n",
    "'k_p1': -6.15e+02, 'k_p2': -5.98e+02, 'k_p3': 6.50e+02, 'k_p4': 4.79e+02,\n",
    "'k_q1': -2.17e+02, 'k_q2': 2.38e+02, 'k_q3': -2.80e+02, 'k_q4': 1.96e+02,\n",
    "'k_r': 4.71e+01, 'k_rd': 5.57e+00,\n",
    "'w_min': 305.40, 'w_max': 4887.57, 'k': 0.84, 'tau': 0.04\n",
    "}"
   ]
  },
  {
   "cell_type": "code",
   "execution_count": 27,
   "metadata": {},
   "outputs": [
    {
     "name": "stdout",
     "output_type": "stream",
     "text": [
      "'k_w': 5.21e-07,\n",
      "'k_x': 0.00e+00,\n",
      "'k_y': 0.00e+00,\n",
      "'k_p1': -4.41e-05,\n",
      "'k_p2': -4.41e-05,\n",
      "'k_p3': 4.41e-05,\n",
      "'k_p4': 4.41e-05,\n",
      "'k_q1': -3.25e-05,\n",
      "'k_q2': 3.25e-05,\n",
      "'k_q3': -3.25e-05,\n",
      "'k_q4': 3.25e-05,\n",
      "'k_r1': 5.56e+01, 'k_r2': 5.56e+01, 'k_r3': 5.56e+01, 'k_r4': 5.56e+01,\n",
      "'k_r5': 5.56e-04, 'k_r6': 5.56e-04, 'k_r7': 5.56e-04, 'k_r8': 5.56e-04,\n",
      "'w_max': 4.90e+03,\n",
      "'tau': 2.00e-02,\n"
     ]
    }
   ],
   "source": [
    "#Tills simulation:\n",
    "#mc.setInertia(m=0.4, I=np.diag([0.75e-3, 0.8e-3, 0.9e-3]))\n",
    "#mc.addRotor(Rotor(r=[-0.05, +0.0635, 0.0], Tmax=5., kESC=0.5, tau=0.02, Izz=5e-7, dir='lh')) # RR\n",
    "#mc.addRotor(Rotor(r=[+0.05, +0.0635, 0.0], Tmax=5., kESC=0.5, tau=0.02, Izz=5e-7, dir='rh')) # FR\n",
    "#mc.addRotor(Rotor(r=[-0.05, -0.0635, 0.0], Tmax=5., kESC=0.5, tau=0.02, Izz=5e-7, dir='rh')) # RL\n",
    "#mc.addRotor(Rotor(r=[+0.05, -0.0635, 0.0], Tmax=5., kESC=0.5, tau=0.02, Izz=5e-7, dir='lh')) # FL\n",
    "#wmax=4900\n",
    "params_mc = {\n",
    "    'm':0.4,\n",
    "    'Ixx':0.75e-3,\n",
    "    'Iyy':0.8e-3,\n",
    "    'Izz':0.9e-3,\n",
    "    'r1': [-0.05, +0.0635, 0.0],\n",
    "    'r2': [+0.05, +0.0635, 0.0],\n",
    "    'r3': [-0.05, -0.0635, 0.0],\n",
    "    'r4': [+0.05, -0.0635, 0.0],\n",
    "    'Tmax':5,\n",
    "    'cm': 0.01,\n",
    "    'kESC':0.5,\n",
    "    'tau':0.02,\n",
    "    'Izz_rotor':5e-7,\n",
    "    'w_max':4900\n",
    "}\n",
    "\n",
    "#Convert to our convention:\n",
    "params = params_mc\n",
    "#Tmax = k_w*w**2/m --> k_w = Tmax*m/w**2\n",
    "params['k_w'] = (params['Tmax']/params['m'])/(params['w_max'])**2\n",
    "params['k_x'] = 0\n",
    "params['k_y'] = 0\n",
    "params['k_p1'] = -params['k_w']*params['r1'][1]/params['Ixx']\n",
    "params['k_p2'] = -params['k_w']*params['r2'][1]/params['Ixx']\n",
    "params['k_p3'] = -params['k_w']*params['r3'][1]/params['Ixx']\n",
    "params['k_p4'] = -params['k_w']*params['r4'][1]/params['Ixx']\n",
    "params['k_q1'] =  params['k_w']*params['r1'][0]/params['Iyy']\n",
    "params['k_q2'] =  params['k_w']*params['r2'][0]/params['Iyy']\n",
    "params['k_q3'] =  params['k_w']*params['r3'][0]/params['Iyy']\n",
    "params['k_q4'] =  params['k_w']*params['r4'][0]/params['Iyy']\n",
    "params['k_r'] =  params['cm']*params['Tmax']/params['Izz']\n",
    "params['k_rd'] =  params['Izz_rotor']/params['Izz']\n",
    "\n",
    "\n",
    "for key in ['k_w', 'k_x', 'k_y', 'k_p1', 'k_p2', 'k_p3', 'k_p4', 'k_q1', 'k_q2', 'k_q3', 'k_q4', 'k_r', 'k_rd', 'w_min', 'w_max', 'k', 'tau']:\n",
    "    if key in params.keys():\n",
    "        if key == 'k_r':\n",
    "            print('\\'k_r1\\': {:.2e}, \\'k_r2\\': {:.2e}, \\'k_r3\\': {:.2e}, \\'k_r4\\': {:.2e},'.format(params[key], params[key], params[key], params[key]))\n",
    "        elif key == 'k_rd':\n",
    "            print('\\'k_r5\\': {:.2e}, \\'k_r6\\': {:.2e}, \\'k_r7\\': {:.2e}, \\'k_r8\\': {:.2e},'.format(params[key], params[key], params[key], params[key]))\n",
    "        else:\n",
    "            print('\\'{}\\': {:.2e},'.format(key, params[key]))\n",
    "\n",
    "# Normalize:\n",
    "# params_n = {}\n",
    "# params_n['k_w'] = params['k_w']*params['w_max']**2\n",
    "# print(params_n)"
   ]
  },
  {
   "cell_type": "code",
   "execution_count": null,
   "metadata": {},
   "outputs": [],
   "source": []
  }
 ],
 "metadata": {
  "kernelspec": {
   "display_name": "base",
   "language": "python",
   "name": "python3"
  },
  "language_info": {
   "codemirror_mode": {
    "name": "ipython",
    "version": 3
   },
   "file_extension": ".py",
   "mimetype": "text/x-python",
   "name": "python",
   "nbconvert_exporter": "python",
   "pygments_lexer": "ipython3",
   "version": "3.11.6"
  }
 },
 "nbformat": 4,
 "nbformat_minor": 2
}
